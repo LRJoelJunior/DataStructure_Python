{
 "cells": [
  {
   "cell_type": "code",
   "execution_count": 1,
   "id": "494b48e6",
   "metadata": {},
   "outputs": [
    {
     "name": "stdout",
     "output_type": "stream",
     "text": [
      "The product of all items in the list [2, 3, 6] is 36\n"
     ]
    }
   ],
   "source": [
    "def multiply_list_items(lst):\n",
    "    result = 1\n",
    "    for item in lst:\n",
    "        result *= item\n",
    "    return result\n",
    "\n",
    "# Example usage\n",
    "my_list = [2, 3, 6]\n",
    "print(f\"The product of all items in the list {my_list} is {multiply_list_items(my_list)}\")\n"
   ]
  },
  {
   "cell_type": "code",
   "execution_count": 8,
   "id": "f3bac85d",
   "metadata": {},
   "outputs": [
    {
     "name": "stdout",
     "output_type": "stream",
     "text": [
      "Liste triée de tuples par dernier élément :\n",
      "(2, 1)\n",
      "(1, 2)\n",
      "(2, 3)\n",
      "(4, 4)\n",
      "(2, 5)\n"
     ]
    }
   ],
   "source": [
    "def trier_tuples_par_dernier_element(liste_tuples):\n",
    "    # Trie la liste de tuples par le dernier élément de chaque tuple\n",
    "    liste_triee = sorted(liste_tuples, key=lambda x: x[-1])\n",
    "    return liste_triee\n",
    "\n",
    "# Exemple de liste de tuples\n",
    "tuples_d_entree = [(2, 5), (1, 2), (4, 4), (2, 3), (2, 1)]\n",
    "\n",
    "# Appelle la fonction pour trier les tuples\n",
    "tuples_tries = trier_tuples_par_dernier_element(tuples_d_entree)\n",
    "\n",
    "# Affiche la liste triée\n",
    "print(\"Liste triée de tuples par dernier élément :\")\n",
    "for t in tuples_tries:\n",
    "    print(t)\n"
   ]
  },
  {
   "cell_type": "code",
   "execution_count": 9,
   "id": "48f7f99e",
   "metadata": {},
   "outputs": [
    {
     "name": "stdout",
     "output_type": "stream",
     "text": [
      "Dictionnaire combiné : {'a': 400, 'b': 400, 'c': 300, 'd': 400}\n"
     ]
    }
   ],
   "source": [
    "from collections import Counter\n",
    "\n",
    "# Définir les dictionnaires\n",
    "d1 = {'a': 100, 'b': 200, 'c': 300}\n",
    "d2 = {'a': 300, 'b': 200, 'd': 400}\n",
    "\n",
    "# Combinez les dictionnaires en ajoutant les valeurs pour les clés communes\n",
    "combined_dict = Counter(d1) + Counter(d2)\n",
    "\n",
    "# Convertissez combined_dict en un dictionnaire régulier\n",
    "result_dict = dict(combined_dict)\n",
    "\n",
    "# Affichez le résultat\n",
    "print(\"Dictionnaire combiné :\", result_dict)"
   ]
  },
  {
   "cell_type": "code",
   "execution_count": 10,
   "id": "190b32c2",
   "metadata": {},
   "outputs": [
    {
     "name": "stdout",
     "output_type": "stream",
     "text": [
      "Enter an integral number (n): 8\n",
      "{1: 1, 2: 4, 3: 9, 4: 16, 5: 25, 6: 36, 7: 49, 8: 64}\n"
     ]
    }
   ],
   "source": [
    "def generate_square_dict(n):\n",
    "    # Initialize an empty dictionary\n",
    "    square_dict = {}\n",
    "\n",
    "    # Generate (i, i*i) pairs for i from 1 to n\n",
    "    for i in range(1, n + 1):\n",
    "        square_dict[i] = i * i\n",
    "\n",
    "    return square_dict\n",
    "\n",
    "# Get input from the user\n",
    "n = int(input(\"Enter an integral number (n): \"))\n",
    "\n",
    "# Generate the dictionary\n",
    "result_dict = generate_square_dict(n)\n",
    "\n",
    "# Print the dictionary\n",
    "print(result_dict)"
   ]
  },
  {
   "cell_type": "code",
   "execution_count": 11,
   "id": "4baa7c58",
   "metadata": {},
   "outputs": [
    {
     "name": "stdout",
     "output_type": "stream",
     "text": [
      "[('item1', '12.20'), ('item2', '15.10'), ('item3', '24.5')]\n"
     ]
    }
   ],
   "source": [
    "# Given list of tuples\n",
    "my_list = [('item1', '12.20'), ('item2', '15.10'), ('item3', '24.5')]\n",
    "\n",
    "# Sort the list by the second element (converted to float)\n",
    "sorted_list = sorted(my_list, key=lambda x: float(x[1]))\n",
    "\n",
    "# Print the sorted list\n",
    "print(sorted_list)"
   ]
  },
  {
   "cell_type": "code",
   "execution_count": 12,
   "id": "c0b30b4d",
   "metadata": {},
   "outputs": [
    {
     "name": "stdout",
     "output_type": "stream",
     "text": [
      "{0, 1, 2, 3, 4}\n"
     ]
    }
   ],
   "source": [
    "# Create a set with examples {0, 1, 2, 3, 4}\n",
    "my_set = {0, 1, 2, 3, 4}\n",
    "\n",
    "# Print the set\n",
    "print(my_set)\n"
   ]
  },
  {
   "cell_type": "code",
   "execution_count": 13,
   "id": "6ac0da1d",
   "metadata": {},
   "outputs": [
    {
     "name": "stdout",
     "output_type": "stream",
     "text": [
      "0\n",
      "1\n",
      "2\n",
      "3\n",
      "4\n"
     ]
    }
   ],
   "source": [
    "# Create a set with examples {0, 1, 2, 3, 4}\n",
    "my_set = {0, 1, 2, 3, 4}\n",
    "\n",
    "# Iterate over the set and print each element\n",
    "for item in my_set:\n",
    "    print(item)\n",
    "    "
   ]
  },
  {
   "cell_type": "code",
   "execution_count": 14,
   "id": "58f4455f",
   "metadata": {},
   "outputs": [
    {
     "name": "stdout",
     "output_type": "stream",
     "text": [
      "After adding members: {5, 6, 7}\n",
      "After removing 6: {5, 7}\n"
     ]
    }
   ],
   "source": [
    "# Create an empty set\n",
    "my_set = set()\n",
    "\n",
    "# Add members to the set\n",
    "my_set.add(5)\n",
    "my_set.add(6)\n",
    "my_set.add(7)\n",
    "\n",
    "# Print the updated set\n",
    "print(\"After adding members:\", my_set)\n",
    "\n",
    "# Remove an item from the set\n",
    "my_set.remove(6)\n",
    "\n",
    "# Print the updated set\n",
    "print(\"After removing 6:\", my_set)"
   ]
  },
  {
   "cell_type": "code",
   "execution_count": null,
   "id": "3269c59f",
   "metadata": {},
   "outputs": [],
   "source": []
  },
  {
   "cell_type": "code",
   "execution_count": null,
   "id": "8ddcb784",
   "metadata": {},
   "outputs": [],
   "source": []
  }
 ],
 "metadata": {
  "kernelspec": {
   "display_name": "Python 3 (ipykernel)",
   "language": "python",
   "name": "python3"
  },
  "language_info": {
   "codemirror_mode": {
    "name": "ipython",
    "version": 3
   },
   "file_extension": ".py",
   "mimetype": "text/x-python",
   "name": "python",
   "nbconvert_exporter": "python",
   "pygments_lexer": "ipython3",
   "version": "3.11.5"
  }
 },
 "nbformat": 4,
 "nbformat_minor": 5
}
